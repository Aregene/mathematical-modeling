{
 "cells": [
  {
   "cell_type": "markdown",
   "id": "98fc1f66-f80e-47f8-9697-967583b9d476",
   "metadata": {},
   "source": [
    "# <span style=\"color:rgb(21, 97, 212);\">数学建模</span>"
   ]
  },
  {
   "cell_type": "markdown",
   "id": "e98eb888-6945-4cb6-87cf-708af0abde01",
   "metadata": {},
   "source": [
    "## 1. 对比例的建模"
   ]
  },
  {
   "cell_type": "markdown",
   "id": "4bfd823a-4d6a-4abf-85cf-beb8ee86db5f",
   "metadata": {},
   "source": [
    "### 【1.0.1】弹簧-质量系统"
   ]
  },
  {
   "cell_type": "code",
   "execution_count": null,
   "id": "650e5916",
   "metadata": {},
   "outputs": [],
   "source": [
    "# 获取配置信息\n",
    "import toml\n",
    "config = toml.load(\"../pyproject.toml\")\n",
    "file_path = config[\"proportion\"][\"101\"][\"file_path\"]\n",
    "sheet_name = config[\"proportion\"][\"101\"][\"sheet_name\"]"
   ]
  },
  {
   "cell_type": "code",
   "execution_count": 38,
   "id": "e081b064-d792-48a0-bc76-c1124e979138",
   "metadata": {},
   "outputs": [
    {
     "name": "stdout",
     "output_type": "stream",
     "text": [
      "     质量     伸长\n",
      "0    50  1.000\n",
      "1   100  1.875\n",
      "2   150  2.750\n",
      "3   200  3.250\n",
      "4   250  4.375\n",
      "5   300  4.875\n",
      "6   350  5.675\n",
      "7   400  6.500\n",
      "8   450  7.250\n",
      "9   500  8.000\n",
      "10  550  8.750\n"
     ]
    }
   ],
   "source": [
    "# 获取数据\n",
    "import pandas as pd\n",
    "df = pd.read_excel(file_path, sheet_name)\n",
    "\n",
    "# 显示数据框的前几行\n",
    "print(df)"
   ]
  },
  {
   "cell_type": "code",
   "execution_count": 43,
   "id": "7fb1bf9c",
   "metadata": {},
   "outputs": [
    {
     "data": {
      "application/vnd.plotly.v1+json": {
       "config": {
        "plotlyServerURL": "https://plot.ly"
       },
       "data": [
        {
         "hovertemplate": "质量 (单位)=%{marker.color}<br>伸长 (单位)=%{marker.size}<extra></extra>",
         "legendgroup": "",
         "marker": {
          "color": {
           "bdata": "MgBkAJYAyAD6ACwBXgGQAcIB9AEmAg==",
           "dtype": "i2"
          },
          "coloraxis": "coloraxis",
          "opacity": 0.8,
          "size": {
           "bdata": "AAAAAAAA8D8AAAAAAAD+PwAAAAAAAAZAAAAAAAAACkAAAAAAAIARQAAAAAAAgBNAMzMzMzOzFkAAAAAAAAAaQAAAAAAAAB1AAAAAAAAAIEAAAAAAAIAhQA==",
           "dtype": "f8"
          },
          "sizemode": "area",
          "sizeref": 0.021875,
          "symbol": "circle"
         },
         "mode": "markers",
         "name": "",
         "orientation": "v",
         "showlegend": false,
         "type": "scatter",
         "x": {
          "bdata": "MgBkAJYAyAD6ACwBXgGQAcIB9AEmAg==",
          "dtype": "i2"
         },
         "xaxis": "x",
         "y": {
          "bdata": "AAAAAAAA8D8AAAAAAAD+PwAAAAAAAAZAAAAAAAAACkAAAAAAAIARQAAAAAAAgBNAMzMzMzOzFkAAAAAAAAAaQAAAAAAAAB1AAAAAAAAAIEAAAAAAAIAhQA==",
          "dtype": "f8"
         },
         "yaxis": "y"
        },
        {
         "hovertemplate": "<b>OLS trendline</b><br>伸长 = 0.0153727 * 质量 + 0.324545<br>R<sup>2</sup>=0.998544<br><br>质量 (单位)=%{x}<br>伸长 (单位)=%{y} <b>(trend)</b><extra></extra>",
         "legendgroup": "",
         "line": {
          "color": "rgba(255,255,255,0.3)"
         },
         "marker": {
          "symbol": "circle"
         },
         "mode": "lines",
         "name": "",
         "showlegend": false,
         "type": "scatter",
         "x": {
          "bdata": "MgBkAJYAyAD6ACwBXgGQAcIB9AEmAg==",
          "dtype": "i2"
         },
         "xaxis": "x",
         "y": {
          "bdata": "fsPaN6x98T/KHaDcAcr9Pwu8ssArCwVAMWkVk1YxC0AsC7yywKsQQL5h7RvWvhNAUrgehevRFkDkDlDuAOUZQHhlgVcW+BxABl5Z4JUFIEBPCfKUII8hQA==",
          "dtype": "f8"
         },
         "yaxis": "y"
        }
       ],
       "layout": {
        "coloraxis": {
         "colorbar": {
          "title": {
           "text": "质量 (单位)"
          }
         },
         "colorscale": [
          [
           0,
           "#0d0887"
          ],
          [
           0.1111111111111111,
           "#46039f"
          ],
          [
           0.2222222222222222,
           "#7201a8"
          ],
          [
           0.3333333333333333,
           "#9c179e"
          ],
          [
           0.4444444444444444,
           "#bd3786"
          ],
          [
           0.5555555555555556,
           "#d8576b"
          ],
          [
           0.6666666666666666,
           "#ed7953"
          ],
          [
           0.7777777777777778,
           "#fb9f3a"
          ],
          [
           0.8888888888888888,
           "#fdca26"
          ],
          [
           1,
           "#f0f921"
          ]
         ]
        },
        "height": 500,
        "legend": {
         "bgcolor": "rgba(0,0,0,0.5)",
         "font": {
          "color": "white",
          "family": "Roboto",
          "size": 14
         },
         "itemsizing": "constant",
         "title": {
          "font": {
           "color": "white",
           "family": "Roboto",
           "size": 16
          },
          "text": "图例"
         },
         "tracegroupgap": 0,
         "x": 0.9,
         "y": 0.9
        },
        "margin": {
         "b": 50,
         "l": 50,
         "r": 50,
         "t": 100
        },
        "paper_bgcolor": "rgba(0,0,0,0.1)",
        "plot_bgcolor": "rgba(0,0,0,0)",
        "template": {
         "data": {
          "bar": [
           {
            "error_x": {
             "color": "#f2f5fa"
            },
            "error_y": {
             "color": "#f2f5fa"
            },
            "marker": {
             "line": {
              "color": "rgb(17,17,17)",
              "width": 0.5
             },
             "pattern": {
              "fillmode": "overlay",
              "size": 10,
              "solidity": 0.2
             }
            },
            "type": "bar"
           }
          ],
          "barpolar": [
           {
            "marker": {
             "line": {
              "color": "rgb(17,17,17)",
              "width": 0.5
             },
             "pattern": {
              "fillmode": "overlay",
              "size": 10,
              "solidity": 0.2
             }
            },
            "type": "barpolar"
           }
          ],
          "carpet": [
           {
            "aaxis": {
             "endlinecolor": "#A2B1C6",
             "gridcolor": "#506784",
             "linecolor": "#506784",
             "minorgridcolor": "#506784",
             "startlinecolor": "#A2B1C6"
            },
            "baxis": {
             "endlinecolor": "#A2B1C6",
             "gridcolor": "#506784",
             "linecolor": "#506784",
             "minorgridcolor": "#506784",
             "startlinecolor": "#A2B1C6"
            },
            "type": "carpet"
           }
          ],
          "choropleth": [
           {
            "colorbar": {
             "outlinewidth": 0,
             "ticks": ""
            },
            "type": "choropleth"
           }
          ],
          "contour": [
           {
            "colorbar": {
             "outlinewidth": 0,
             "ticks": ""
            },
            "colorscale": [
             [
              0,
              "#0d0887"
             ],
             [
              0.1111111111111111,
              "#46039f"
             ],
             [
              0.2222222222222222,
              "#7201a8"
             ],
             [
              0.3333333333333333,
              "#9c179e"
             ],
             [
              0.4444444444444444,
              "#bd3786"
             ],
             [
              0.5555555555555556,
              "#d8576b"
             ],
             [
              0.6666666666666666,
              "#ed7953"
             ],
             [
              0.7777777777777778,
              "#fb9f3a"
             ],
             [
              0.8888888888888888,
              "#fdca26"
             ],
             [
              1,
              "#f0f921"
             ]
            ],
            "type": "contour"
           }
          ],
          "contourcarpet": [
           {
            "colorbar": {
             "outlinewidth": 0,
             "ticks": ""
            },
            "type": "contourcarpet"
           }
          ],
          "heatmap": [
           {
            "colorbar": {
             "outlinewidth": 0,
             "ticks": ""
            },
            "colorscale": [
             [
              0,
              "#0d0887"
             ],
             [
              0.1111111111111111,
              "#46039f"
             ],
             [
              0.2222222222222222,
              "#7201a8"
             ],
             [
              0.3333333333333333,
              "#9c179e"
             ],
             [
              0.4444444444444444,
              "#bd3786"
             ],
             [
              0.5555555555555556,
              "#d8576b"
             ],
             [
              0.6666666666666666,
              "#ed7953"
             ],
             [
              0.7777777777777778,
              "#fb9f3a"
             ],
             [
              0.8888888888888888,
              "#fdca26"
             ],
             [
              1,
              "#f0f921"
             ]
            ],
            "type": "heatmap"
           }
          ],
          "histogram": [
           {
            "marker": {
             "pattern": {
              "fillmode": "overlay",
              "size": 10,
              "solidity": 0.2
             }
            },
            "type": "histogram"
           }
          ],
          "histogram2d": [
           {
            "colorbar": {
             "outlinewidth": 0,
             "ticks": ""
            },
            "colorscale": [
             [
              0,
              "#0d0887"
             ],
             [
              0.1111111111111111,
              "#46039f"
             ],
             [
              0.2222222222222222,
              "#7201a8"
             ],
             [
              0.3333333333333333,
              "#9c179e"
             ],
             [
              0.4444444444444444,
              "#bd3786"
             ],
             [
              0.5555555555555556,
              "#d8576b"
             ],
             [
              0.6666666666666666,
              "#ed7953"
             ],
             [
              0.7777777777777778,
              "#fb9f3a"
             ],
             [
              0.8888888888888888,
              "#fdca26"
             ],
             [
              1,
              "#f0f921"
             ]
            ],
            "type": "histogram2d"
           }
          ],
          "histogram2dcontour": [
           {
            "colorbar": {
             "outlinewidth": 0,
             "ticks": ""
            },
            "colorscale": [
             [
              0,
              "#0d0887"
             ],
             [
              0.1111111111111111,
              "#46039f"
             ],
             [
              0.2222222222222222,
              "#7201a8"
             ],
             [
              0.3333333333333333,
              "#9c179e"
             ],
             [
              0.4444444444444444,
              "#bd3786"
             ],
             [
              0.5555555555555556,
              "#d8576b"
             ],
             [
              0.6666666666666666,
              "#ed7953"
             ],
             [
              0.7777777777777778,
              "#fb9f3a"
             ],
             [
              0.8888888888888888,
              "#fdca26"
             ],
             [
              1,
              "#f0f921"
             ]
            ],
            "type": "histogram2dcontour"
           }
          ],
          "mesh3d": [
           {
            "colorbar": {
             "outlinewidth": 0,
             "ticks": ""
            },
            "type": "mesh3d"
           }
          ],
          "parcoords": [
           {
            "line": {
             "colorbar": {
              "outlinewidth": 0,
              "ticks": ""
             }
            },
            "type": "parcoords"
           }
          ],
          "pie": [
           {
            "automargin": true,
            "type": "pie"
           }
          ],
          "scatter": [
           {
            "marker": {
             "line": {
              "color": "#283442"
             }
            },
            "type": "scatter"
           }
          ],
          "scatter3d": [
           {
            "line": {
             "colorbar": {
              "outlinewidth": 0,
              "ticks": ""
             }
            },
            "marker": {
             "colorbar": {
              "outlinewidth": 0,
              "ticks": ""
             }
            },
            "type": "scatter3d"
           }
          ],
          "scattercarpet": [
           {
            "marker": {
             "colorbar": {
              "outlinewidth": 0,
              "ticks": ""
             }
            },
            "type": "scattercarpet"
           }
          ],
          "scattergeo": [
           {
            "marker": {
             "colorbar": {
              "outlinewidth": 0,
              "ticks": ""
             }
            },
            "type": "scattergeo"
           }
          ],
          "scattergl": [
           {
            "marker": {
             "line": {
              "color": "#283442"
             }
            },
            "type": "scattergl"
           }
          ],
          "scattermap": [
           {
            "marker": {
             "colorbar": {
              "outlinewidth": 0,
              "ticks": ""
             }
            },
            "type": "scattermap"
           }
          ],
          "scattermapbox": [
           {
            "marker": {
             "colorbar": {
              "outlinewidth": 0,
              "ticks": ""
             }
            },
            "type": "scattermapbox"
           }
          ],
          "scatterpolar": [
           {
            "marker": {
             "colorbar": {
              "outlinewidth": 0,
              "ticks": ""
             }
            },
            "type": "scatterpolar"
           }
          ],
          "scatterpolargl": [
           {
            "marker": {
             "colorbar": {
              "outlinewidth": 0,
              "ticks": ""
             }
            },
            "type": "scatterpolargl"
           }
          ],
          "scatterternary": [
           {
            "marker": {
             "colorbar": {
              "outlinewidth": 0,
              "ticks": ""
             }
            },
            "type": "scatterternary"
           }
          ],
          "surface": [
           {
            "colorbar": {
             "outlinewidth": 0,
             "ticks": ""
            },
            "colorscale": [
             [
              0,
              "#0d0887"
             ],
             [
              0.1111111111111111,
              "#46039f"
             ],
             [
              0.2222222222222222,
              "#7201a8"
             ],
             [
              0.3333333333333333,
              "#9c179e"
             ],
             [
              0.4444444444444444,
              "#bd3786"
             ],
             [
              0.5555555555555556,
              "#d8576b"
             ],
             [
              0.6666666666666666,
              "#ed7953"
             ],
             [
              0.7777777777777778,
              "#fb9f3a"
             ],
             [
              0.8888888888888888,
              "#fdca26"
             ],
             [
              1,
              "#f0f921"
             ]
            ],
            "type": "surface"
           }
          ],
          "table": [
           {
            "cells": {
             "fill": {
              "color": "#506784"
             },
             "line": {
              "color": "rgb(17,17,17)"
             }
            },
            "header": {
             "fill": {
              "color": "#2a3f5f"
             },
             "line": {
              "color": "rgb(17,17,17)"
             }
            },
            "type": "table"
           }
          ]
         },
         "layout": {
          "annotationdefaults": {
           "arrowcolor": "#f2f5fa",
           "arrowhead": 0,
           "arrowwidth": 1
          },
          "autotypenumbers": "strict",
          "coloraxis": {
           "colorbar": {
            "outlinewidth": 0,
            "ticks": ""
           }
          },
          "colorscale": {
           "diverging": [
            [
             0,
             "#8e0152"
            ],
            [
             0.1,
             "#c51b7d"
            ],
            [
             0.2,
             "#de77ae"
            ],
            [
             0.3,
             "#f1b6da"
            ],
            [
             0.4,
             "#fde0ef"
            ],
            [
             0.5,
             "#f7f7f7"
            ],
            [
             0.6,
             "#e6f5d0"
            ],
            [
             0.7,
             "#b8e186"
            ],
            [
             0.8,
             "#7fbc41"
            ],
            [
             0.9,
             "#4d9221"
            ],
            [
             1,
             "#276419"
            ]
           ],
           "sequential": [
            [
             0,
             "#0d0887"
            ],
            [
             0.1111111111111111,
             "#46039f"
            ],
            [
             0.2222222222222222,
             "#7201a8"
            ],
            [
             0.3333333333333333,
             "#9c179e"
            ],
            [
             0.4444444444444444,
             "#bd3786"
            ],
            [
             0.5555555555555556,
             "#d8576b"
            ],
            [
             0.6666666666666666,
             "#ed7953"
            ],
            [
             0.7777777777777778,
             "#fb9f3a"
            ],
            [
             0.8888888888888888,
             "#fdca26"
            ],
            [
             1,
             "#f0f921"
            ]
           ],
           "sequentialminus": [
            [
             0,
             "#0d0887"
            ],
            [
             0.1111111111111111,
             "#46039f"
            ],
            [
             0.2222222222222222,
             "#7201a8"
            ],
            [
             0.3333333333333333,
             "#9c179e"
            ],
            [
             0.4444444444444444,
             "#bd3786"
            ],
            [
             0.5555555555555556,
             "#d8576b"
            ],
            [
             0.6666666666666666,
             "#ed7953"
            ],
            [
             0.7777777777777778,
             "#fb9f3a"
            ],
            [
             0.8888888888888888,
             "#fdca26"
            ],
            [
             1,
             "#f0f921"
            ]
           ]
          },
          "colorway": [
           "#636efa",
           "#EF553B",
           "#00cc96",
           "#ab63fa",
           "#FFA15A",
           "#19d3f3",
           "#FF6692",
           "#B6E880",
           "#FF97FF",
           "#FECB52"
          ],
          "font": {
           "color": "#f2f5fa"
          },
          "geo": {
           "bgcolor": "rgb(17,17,17)",
           "lakecolor": "rgb(17,17,17)",
           "landcolor": "rgb(17,17,17)",
           "showlakes": true,
           "showland": true,
           "subunitcolor": "#506784"
          },
          "hoverlabel": {
           "align": "left"
          },
          "hovermode": "closest",
          "mapbox": {
           "style": "dark"
          },
          "paper_bgcolor": "rgb(17,17,17)",
          "plot_bgcolor": "rgb(17,17,17)",
          "polar": {
           "angularaxis": {
            "gridcolor": "#506784",
            "linecolor": "#506784",
            "ticks": ""
           },
           "bgcolor": "rgb(17,17,17)",
           "radialaxis": {
            "gridcolor": "#506784",
            "linecolor": "#506784",
            "ticks": ""
           }
          },
          "scene": {
           "xaxis": {
            "backgroundcolor": "rgb(17,17,17)",
            "gridcolor": "#506784",
            "gridwidth": 2,
            "linecolor": "#506784",
            "showbackground": true,
            "ticks": "",
            "zerolinecolor": "#C8D4E3"
           },
           "yaxis": {
            "backgroundcolor": "rgb(17,17,17)",
            "gridcolor": "#506784",
            "gridwidth": 2,
            "linecolor": "#506784",
            "showbackground": true,
            "ticks": "",
            "zerolinecolor": "#C8D4E3"
           },
           "zaxis": {
            "backgroundcolor": "rgb(17,17,17)",
            "gridcolor": "#506784",
            "gridwidth": 2,
            "linecolor": "#506784",
            "showbackground": true,
            "ticks": "",
            "zerolinecolor": "#C8D4E3"
           }
          },
          "shapedefaults": {
           "line": {
            "color": "#f2f5fa"
           }
          },
          "sliderdefaults": {
           "bgcolor": "#C8D4E3",
           "bordercolor": "rgb(17,17,17)",
           "borderwidth": 1,
           "tickwidth": 0
          },
          "ternary": {
           "aaxis": {
            "gridcolor": "#506784",
            "linecolor": "#506784",
            "ticks": ""
           },
           "baxis": {
            "gridcolor": "#506784",
            "linecolor": "#506784",
            "ticks": ""
           },
           "bgcolor": "rgb(17,17,17)",
           "caxis": {
            "gridcolor": "#506784",
            "linecolor": "#506784",
            "ticks": ""
           }
          },
          "title": {
           "x": 0.05
          },
          "updatemenudefaults": {
           "bgcolor": "#506784",
           "borderwidth": 0
          },
          "xaxis": {
           "automargin": true,
           "gridcolor": "#283442",
           "linecolor": "#506784",
           "ticks": "",
           "title": {
            "standoff": 15
           },
           "zerolinecolor": "#283442",
           "zerolinewidth": 2
          },
          "yaxis": {
           "automargin": true,
           "gridcolor": "#283442",
           "linecolor": "#506784",
           "ticks": "",
           "title": {
            "standoff": 15
           },
           "zerolinecolor": "#283442",
           "zerolinewidth": 2
          }
         }
        },
        "title": {
         "font": {
          "color": "white",
          "family": "Roboto",
          "size": 24
         },
         "text": "质量与伸长的关系图",
         "x": 0.5
        },
        "width": 1100,
        "xaxis": {
         "anchor": "y",
         "domain": [
          0,
          1
         ],
         "gridcolor": "rgba(255,255,255,0.1)",
         "showgrid": true,
         "tickfont": {
          "color": "white",
          "family": "Roboto",
          "size": 14
         },
         "title": {
          "font": {
           "color": "white",
           "family": "Roboto",
           "size": 18
          },
          "text": "质量 (单位)"
         }
        },
        "yaxis": {
         "anchor": "x",
         "domain": [
          0,
          1
         ],
         "gridcolor": "rgba(255,255,255,0.1)",
         "showgrid": true,
         "tickfont": {
          "color": "white",
          "family": "Roboto",
          "size": 14
         },
         "title": {
          "font": {
           "color": "white",
           "family": "Roboto",
           "size": 18
          },
          "text": "伸长 (单位)"
         }
        }
       }
      }
     },
     "metadata": {},
     "output_type": "display_data"
    }
   ],
   "source": [
    "'''\n",
    "Date: 2025-02-27 21:02:49\n",
    "LastEditors: Aregene\n",
    "LastEditTime: 2025-02-27 21:47:21\n",
    "'''\n",
    "import plotly.express as px\n",
    "\n",
    "fig = px.scatter(\n",
    "    df, \n",
    "    x='质量', \n",
    "    y='伸长', \n",
    "    title=\"质量与伸长的关系图\",\n",
    "    labels={'质量': '质量 (单位)', '伸长': '伸长 (单位)'},\n",
    "    color='质量',  # 根据质量值自动着色\n",
    "    size='伸长',   # 根据伸长值调整点的大小\n",
    "    opacity=0.8,  # 设置点的透明度\n",
    "    trendline=\"ols\",  # 添加线性趋势线\n",
    "    trendline_color_override=\"rgba(255,255,255,0.3)\",  # 设置趋势线颜色\n",
    ")\n",
    "\n",
    "# 更新图表布局以美化\n",
    "fig.update_layout(\n",
    "    width=1100,  # 设置图表宽度\n",
    "    height=500, # 设置图表高度\n",
    "    template='plotly_dark',  # 设置图表模板，可以选择不同的颜色主题\n",
    "    xaxis_title_text='质量 (单位)',  # X轴标题\n",
    "    yaxis_title_text='伸长 (单位)',  # Y轴标题\n",
    "    title_font=dict(size=24, color='white', family='Roboto'),  # 设置标题字体\n",
    "    title_x=0.5,  # 设置标题水平居中\n",
    "    xaxis=dict(title_font=dict(size=18, color='white', family='Roboto'), tickfont=dict(size=14, color='white', family='Roboto')),  # X轴字体\n",
    "    yaxis=dict(title_font=dict(size=18, color='white', family='Roboto'), tickfont=dict(size=14, color='white', family='Roboto')),  # Y轴字体\n",
    "    legend_title_text='图例',  # 图例标题\n",
    "    legend=dict(x=0.9, y=0.9, title_font=dict(size=16, color='white', family='Roboto'), font=dict(size=14, color='white', family='Roboto'), bgcolor='rgba(0,0,0,0.5)'),  # 调整图例位置和样式\n",
    "    plot_bgcolor='rgba(0,0,0,0)',  # 设置绘图区域背景颜色\n",
    "    paper_bgcolor='rgba(0,0,0,0.1)',  # 设置整个图表背景颜色\n",
    "    margin=dict(l=50, r=50, t=100, b=50),  # 设置图表的边距\n",
    "    xaxis_showgrid=True,  # 显示X轴网格线\n",
    "    yaxis_showgrid=True,  # 显示Y轴网格线\n",
    "    xaxis_gridcolor='rgba(255,255,255,0.1)',  # 设置X轴网格线颜色\n",
    "    yaxis_gridcolor='rgba(255,255,255,0.1)',  # 设置Y轴网格线颜色\n",
    ")\n",
    "\n",
    "# 显示图表\n",
    "fig.show()\n",
    "\n"
   ]
  },
  {
   "cell_type": "code",
   "execution_count": 57,
   "id": "8b6dd12a",
   "metadata": {},
   "outputs": [
    {
     "name": "stdout",
     "output_type": "stream",
     "text": [
      "拟合的比例系数 k: 0.016219367588932807\n",
      "模型的 R² 值: 0.9946740971350791\n",
      "模型的均方根误差 (RMSE): 0.177514530537425\n",
      "模型的平均绝对误差 (MAE): 0.13070427596119305\n",
      "模型的平均平方误差 (MSE): 0.03151140855192239\n",
      "模型的均方绝对误差 (MSAE): 0.01708360775453971\n",
      "模型的最大误差 (Max Error): 0.3201581027667979\n",
      "残差的标准差 (Standard Deviation of Residuals): 0.16289147304033927\n",
      "残差的均值 (Mean of Residuals): 0.07055335968379405\n",
      "t 统计量: 97.98259303130396\n",
      "p 值: 3.002887330386115e-16\n",
      "F 统计量: 9600.58853713814\n",
      "F p 值: 3.002887330386094e-16\n",
      "AIC: -4.814814116656564\n",
      "BIC: -4.416918843858193\n",
      "                                 OLS Regression Results                                \n",
      "=======================================================================================\n",
      "Dep. Variable:                      y   R-squared (uncentered):                   0.999\n",
      "Model:                            OLS   Adj. R-squared (uncentered):              0.999\n",
      "Method:                 Least Squares   F-statistic:                              9601.\n",
      "Date:                  周四, 27 2月 2025   Prob (F-statistic):                    3.00e-16\n",
      "Time:                        22:31:29   Log-Likelihood:                          3.4074\n",
      "No. Observations:                  11   AIC:                                     -4.815\n",
      "Df Residuals:                      10   BIC:                                     -4.417\n",
      "Df Model:                           1                                                  \n",
      "Covariance Type:            nonrobust                                                  \n",
      "==============================================================================\n",
      "                 coef    std err          t      P>|t|      [0.025      0.975]\n",
      "------------------------------------------------------------------------------\n",
      "x1             0.0162      0.000     97.983      0.000       0.016       0.017\n",
      "==============================================================================\n",
      "Omnibus:                        1.626   Durbin-Watson:                   0.899\n",
      "Prob(Omnibus):                  0.444   Jarque-Bera (JB):                0.908\n",
      "Skew:                           0.329   Prob(JB):                        0.635\n",
      "Kurtosis:                       1.756   Cond. No.                         1.00\n",
      "==============================================================================\n",
      "\n",
      "Notes:\n",
      "[1] R² is computed without centering (uncentered) since the model does not contain a constant.\n",
      "[2] Standard Errors assume that the covariance matrix of the errors is correctly specified.\n"
     ]
    },
    {
     "name": "stderr",
     "output_type": "stream",
     "text": [
      "c:\\Users\\Aregene\\Desktop\\文件\\学习报告\\数学建模\\笔记\\mathematical-modeling\\.venv\\Lib\\site-packages\\scipy\\stats\\_axis_nan_policy.py:430: UserWarning:\n",
      "\n",
      "`kurtosistest` p-value may be inaccurate with fewer than 20 observations; only n=11 observations were given.\n",
      "\n"
     ]
    }
   ],
   "source": [
    "import pandas as pd\n",
    "from sklearn.linear_model import LinearRegression\n",
    "from sklearn.metrics import mean_absolute_error, mean_squared_error, r2_score, max_error\n",
    "import numpy as np\n",
    "import statsmodels.api as sm\n",
    "\n",
    "# 假设 df 是已加载的 DataFrame 包含 '质量' 和 '伸长' 列\n",
    "# 线性回归建模 (y = kx)\n",
    "X = df['质量'].values.reshape(-1, 1)  # 特征 (质量)\n",
    "y = df['伸长'].values  # 目标 (伸长)\n",
    "\n",
    "model = LinearRegression(fit_intercept=False)\n",
    "model.fit(X, y)  # 拟合模型\n",
    "\n",
    "k = model.coef_[0]  # 获取比例系数 k\n",
    "print(f\"拟合的比例系数 k: {k}\")\n",
    "\n",
    "# 生成预测值\n",
    "df['预测伸长'] = model.predict(X)\n",
    "\n",
    "# 模型检验\n",
    "# 计算 R²\n",
    "r_squared = r2_score(y, df['预测伸长'])\n",
    "print(f\"模型的 R\\u00b2 值: {r_squared}\")\n",
    "\n",
    "# 计算均方根误差 (RMSE)\n",
    "rmse = np.sqrt(mean_squared_error(y, df['预测伸长']))\n",
    "print(f\"模型的均方根误差 (RMSE): {rmse}\")\n",
    "\n",
    "# 计算平均绝对误差 (MAE)\n",
    "mae = mean_absolute_error(y, df['预测伸长'])\n",
    "print(f\"模型的平均绝对误差 (MAE): {mae}\")\n",
    "\n",
    "# 计算平均平方误差 (MSE)\n",
    "mse = mean_squared_error(y, df['预测伸长'])\n",
    "print(f\"模型的平均平方误差 (MSE): {mse}\")\n",
    "\n",
    "# 计算均方绝对误差 (MSAE)\n",
    "msae = np.mean(np.square(mean_absolute_error(y, df['预测伸长'])))\n",
    "print(f\"模型的均方绝对误差 (MSAE): {msae}\")\n",
    "\n",
    "# 计算最大误差 (Max Error)\n",
    "max_err = max_error(y, df['预测伸长'])\n",
    "print(f\"模型的最大误差 (Max Error): {max_err}\")\n",
    "\n",
    "# 计算残差的标准差 (Standard Deviation of Residuals)\n",
    "residuals = y - df['预测伸长']\n",
    "std_of_residuals = np.std(residuals)\n",
    "print(f\"残差的标准差 (Standard Deviation of Residuals): {std_of_residuals}\")\n",
    "\n",
    "# 计算残差的均值 (Mean of Residuals)\n",
    "mean_of_residuals = np.mean(residuals)\n",
    "print(f\"残差的均值 (Mean of Residuals): {mean_of_residuals}\")\n",
    "\n",
    "# 使用 statsmodels 进行更详细的统计检验\n",
    "model_statsmodels = sm.OLS(y, X)\n",
    "results = model_statsmodels.fit()\n",
    "\n",
    "# 打印 t 统计量和 p 值\n",
    "t_stat = results.tvalues\n",
    "p_value = results.pvalues\n",
    "print(f\"t 统计量: {t_stat[0]}\")  # 因为第一个是截距，我们取第二个\n",
    "print(f\"p 值: {p_value[0]}\")\n",
    "\n",
    "# 打印 F 统计量和 p 值\n",
    "f_stat = results.fvalue\n",
    "f_p_value = results.f_pvalue\n",
    "print(f\"F 统计量: {f_stat}\")\n",
    "print(f\"F p 值: {f_p_value}\")\n",
    "\n",
    "# 打印 AIC 和 BIC\n",
    "aic = results.aic\n",
    "bic = results.bic\n",
    "print(f\"AIC: {aic}\")\n",
    "print(f\"BIC: {bic}\")\n",
    "\n",
    "# 打印完整的回归结果摘要\n",
    "print(results.summary())\n",
    "\n"
   ]
  },
  {
   "cell_type": "code",
   "execution_count": 69,
   "id": "4b9ea068",
   "metadata": {},
   "outputs": [
    {
     "data": {
      "application/vnd.plotly.v1+json": {
       "config": {
        "plotlyServerURL": "https://plot.ly"
       },
       "data": [
        {
         "marker": {
          "size": 8
         },
         "mode": "markers",
         "name": "真实数据",
         "type": "scatter",
         "x": {
          "bdata": "MgBkAJYAyAD6ACwBXgGQAcIB9AEmAg==",
          "dtype": "i2"
         },
         "xaxis": "x",
         "y": {
          "bdata": "AAAAAAAA8D8AAAAAAAD+PwAAAAAAAAZAAAAAAAAACkAAAAAAAIARQAAAAAAAgBNAMzMzMzOzFkAAAAAAAAAaQAAAAAAAAB1AAAAAAAAAIEAAAAAAAIAhQA==",
          "dtype": "f8"
         },
         "yaxis": "y"
        },
        {
         "line": {
          "color": "red"
         },
         "mode": "lines",
         "name": "拟合直线",
         "type": "scatter",
         "x": {
          "bdata": "AAAAAAAASUDcGRLzdoZLQLgzJObtDE5AyiabbLJJUEC4MyTm7YxRQKZArV8p0FJAk0022WQTVECBWr9SoFZVQG9nSMzbmVZAXXTRRRfdV0BLgVq/UiBZQDiO4ziOY1pAJptsssmmW0AUqPUrBepcQAK1fqVALV5A8MEHH3xwX0BvZ0jM21lgQObtDIl5+2BAXXTRRRedYUDU+pUCtT5iQEuBWr9S4GJAwgcffPCBY0A4juM4jiNkQLAUqPUrxWRAJptssslmZUCeITFvZwhmQBSo9SsFqmZAiy666KJLZ0ACtX6lQO1nQHk7Q2LejmhA8MEHH3wwaUBnSMzbGdJpQN7OkJi3c2pAVVVVVVUVa0DM2xkS87ZrQENi3s6QWGxAuuiiiy76bEAxb2dIzJttQKj1KwVqPW5AH3zwwQffbkCWArV+pYBvQIbEvJ0hEXBAwgcffPBhcED9SoFav7JwQDiO4ziOA3FAdNFFF11UcUCwFKj1K6VxQOtXCtT69XFAJptssslGckBi3s6QmJdyQJ4hMW9n6HJA2WSTTTY5c0AUqPUrBYpzQFDrVwrU2nNAiy666KIrdEDHcRzHcXx0QAK1fqVAzXRAPvjggw8edUB5O0Ni3m51QLV+pUCtv3VA8MEHH3wQdkAsBWr9SmF2QGdIzNsZsnZAo4suuugCd0DezpCYt1N3QBkS83aGpHdAVVVVVVX1d0CQmLczJEZ4QMzbGRLzlnhABx988MHneEBDYt7OkDh5QH6lQK1fiXlAuuiiiy7aeUD1KwVq/Sp6QDFvZ0jMe3pAbLLJJpvMekCo9SsFah17QOM4juM4bntAH3zwwQe/e0Bav1Kg1g98QJYCtX6lYHxA0UUXXXSxfEAMiXk7QwJ9QEjM2xkSU31Agw8++OCjfUC/UqDWr/R9QPqVArV+RX5ANtlkk02WfkBxHMdxHOd+QK1fKVDrN39A6KKLLrqIf0Ak5u0Midl/QLAUqPUrFYBATjbZZJM9gEDrVwrU+mWAQIl5O0NijoBAJptsssm2gEDEvJ0hMd+AQGLezpCYB4FAAAAAAAAwgUA=",
          "dtype": "f8"
         },
         "xaxis": "x",
         "y": {
          "bdata": "sQd69XPz6T9KTv1BgpLsP+KUgI6QMe8/ve2BbU/o8D8KkcOT1jfyP1Y0Bbpdh/M/oddG4OTW9D/teogGbCb2Pzoeyizzdfc/hsELU3rF+D/SZE15ARX6Px4Ij5+IZPs/aqvQxQ+0/D+2ThLslgP+PwLyUxIeU/8/p8pKnFJRAEBNnGsvFvkAQPRtjMLZoAFAmj+tVZ1IAkBAEc7oYPACQObi7nskmANAjLQPD+g/BEAxhjCiq+cEQNhXUTVvjwVAfilyyDI3BkAl+5Jb9t4GQMrMs+65hgdAcJ7UgX0uCEAWcPUUQdYIQLxBFqgEfglAYhM3O8glCkAJ5VfOi80KQK+2eGFPdQtAVYiZ9BIdDED7WbqH1sQMQKEr2xqabA1AR/37rV0UDkDtzhxBIbwOQJSgPdTkYw9AHTmvM9QFEEDwoT/9tVkQQMIK0MaXrRBAlnNgkHkBEUBp3PBZW1URQDtFgSM9qRFAD64R7R79EUDiFqK2AFESQLV/MoDipBJAh+jCScT4EkBbUVMTpkwTQC+649yHoBNAASN0pmn0E0DUiwRwS0gUQKf0lDktnBRAel0lAw/wFEBNxrXM8EMVQCAvRpbSlxVA9JfWX7TrFUDGAGcplj8WQJpp9/J3kxZAbNKHvFnnFkBAOxiGOzsXQBKkqE8djxdA5gw5Gf/iF0C5dcni4DYYQIveWazCihhAX0fqdaTeGEAxsHo/hjIZQAUZCwlohhlA14Gb0knaGUCr6iucKy4aQH5TvGUNghpAUbxML+/VGkAkJd340CkbQPeNbcKyfRtAyvb9i5TRG0CdX45VdiUcQHDIHh9YeRxARDGv6DnNHEAWmj+yGyEdQOoC0Hv9dB1AvGtgRd/IHUCP1PAOwRweQGI9gdiicB5ANaYRooTEHkAID6JrZhgfQNt3MjVIbB9Ar+DC/inAH0DBpCnkBQogQCrZ8cj2MyBAlA26reddIED9QYKS2IcgQGd2SnfJsSBA0aoSXLrbIEA639pAqwUhQKQToyWcLyFADEhrCo1ZIUB2fDPvfYMhQOCw+9NurSFASuXDuF/XIUA=",
          "dtype": "f8"
         },
         "yaxis": "y"
        },
        {
         "cells": {
          "values": [
           [
            "比例系数 k",
            "R² 值",
            "均方根误差 (RMSE)",
            "平均绝对误差 (MAE)",
            "平均平方误差 (MSE)",
            "均方绝对误差 (MSAE)",
            "最大误差 (Max Error)",
            "残差的标准差 (Standard Deviation of Residuals)",
            "残差的均值 (Mean of Residuals)",
            "t 统计量",
            "p 值",
            "F 统计量",
            "F p 值",
            "AIC",
            "BIC"
           ],
           [
            0.016219367588932807,
            0.9946740971350791,
            0.177514530537425,
            0.13070427596119305,
            0.03151140855192239,
            0.01708360775453971,
            0.3201581027667979,
            0.16289147304033927,
            0.07055335968379405,
            97.98259303130396,
            3.002887330386115e-16,
            9600.58853713814,
            3.002887330386094e-16,
            -4.814814116656564,
            -4.416918843858193
           ]
          ]
         },
         "domain": {
          "x": [
           0,
           1
          ],
          "y": [
           0,
           0.375
          ]
         },
         "header": {
          "values": [
           "指标",
           "值"
          ]
         },
         "type": "table"
        }
       ],
       "layout": {
        "annotations": [
         {
          "font": {
           "size": 16
          },
          "showarrow": false,
          "text": "质量与伸长的比例模型",
          "x": 0.5,
          "xanchor": "center",
          "xref": "paper",
          "y": 1,
          "yanchor": "bottom",
          "yref": "paper"
         },
         {
          "font": {
           "size": 16
          },
          "showarrow": false,
          "text": "模型统计信息",
          "x": 0.5,
          "xanchor": "center",
          "xref": "paper",
          "y": 0.375,
          "yanchor": "bottom",
          "yref": "paper"
         }
        ],
        "height": 800,
        "template": {
         "data": {
          "bar": [
           {
            "error_x": {
             "color": "#f2f5fa"
            },
            "error_y": {
             "color": "#f2f5fa"
            },
            "marker": {
             "line": {
              "color": "rgb(17,17,17)",
              "width": 0.5
             },
             "pattern": {
              "fillmode": "overlay",
              "size": 10,
              "solidity": 0.2
             }
            },
            "type": "bar"
           }
          ],
          "barpolar": [
           {
            "marker": {
             "line": {
              "color": "rgb(17,17,17)",
              "width": 0.5
             },
             "pattern": {
              "fillmode": "overlay",
              "size": 10,
              "solidity": 0.2
             }
            },
            "type": "barpolar"
           }
          ],
          "carpet": [
           {
            "aaxis": {
             "endlinecolor": "#A2B1C6",
             "gridcolor": "#506784",
             "linecolor": "#506784",
             "minorgridcolor": "#506784",
             "startlinecolor": "#A2B1C6"
            },
            "baxis": {
             "endlinecolor": "#A2B1C6",
             "gridcolor": "#506784",
             "linecolor": "#506784",
             "minorgridcolor": "#506784",
             "startlinecolor": "#A2B1C6"
            },
            "type": "carpet"
           }
          ],
          "choropleth": [
           {
            "colorbar": {
             "outlinewidth": 0,
             "ticks": ""
            },
            "type": "choropleth"
           }
          ],
          "contour": [
           {
            "colorbar": {
             "outlinewidth": 0,
             "ticks": ""
            },
            "colorscale": [
             [
              0,
              "#0d0887"
             ],
             [
              0.1111111111111111,
              "#46039f"
             ],
             [
              0.2222222222222222,
              "#7201a8"
             ],
             [
              0.3333333333333333,
              "#9c179e"
             ],
             [
              0.4444444444444444,
              "#bd3786"
             ],
             [
              0.5555555555555556,
              "#d8576b"
             ],
             [
              0.6666666666666666,
              "#ed7953"
             ],
             [
              0.7777777777777778,
              "#fb9f3a"
             ],
             [
              0.8888888888888888,
              "#fdca26"
             ],
             [
              1,
              "#f0f921"
             ]
            ],
            "type": "contour"
           }
          ],
          "contourcarpet": [
           {
            "colorbar": {
             "outlinewidth": 0,
             "ticks": ""
            },
            "type": "contourcarpet"
           }
          ],
          "heatmap": [
           {
            "colorbar": {
             "outlinewidth": 0,
             "ticks": ""
            },
            "colorscale": [
             [
              0,
              "#0d0887"
             ],
             [
              0.1111111111111111,
              "#46039f"
             ],
             [
              0.2222222222222222,
              "#7201a8"
             ],
             [
              0.3333333333333333,
              "#9c179e"
             ],
             [
              0.4444444444444444,
              "#bd3786"
             ],
             [
              0.5555555555555556,
              "#d8576b"
             ],
             [
              0.6666666666666666,
              "#ed7953"
             ],
             [
              0.7777777777777778,
              "#fb9f3a"
             ],
             [
              0.8888888888888888,
              "#fdca26"
             ],
             [
              1,
              "#f0f921"
             ]
            ],
            "type": "heatmap"
           }
          ],
          "histogram": [
           {
            "marker": {
             "pattern": {
              "fillmode": "overlay",
              "size": 10,
              "solidity": 0.2
             }
            },
            "type": "histogram"
           }
          ],
          "histogram2d": [
           {
            "colorbar": {
             "outlinewidth": 0,
             "ticks": ""
            },
            "colorscale": [
             [
              0,
              "#0d0887"
             ],
             [
              0.1111111111111111,
              "#46039f"
             ],
             [
              0.2222222222222222,
              "#7201a8"
             ],
             [
              0.3333333333333333,
              "#9c179e"
             ],
             [
              0.4444444444444444,
              "#bd3786"
             ],
             [
              0.5555555555555556,
              "#d8576b"
             ],
             [
              0.6666666666666666,
              "#ed7953"
             ],
             [
              0.7777777777777778,
              "#fb9f3a"
             ],
             [
              0.8888888888888888,
              "#fdca26"
             ],
             [
              1,
              "#f0f921"
             ]
            ],
            "type": "histogram2d"
           }
          ],
          "histogram2dcontour": [
           {
            "colorbar": {
             "outlinewidth": 0,
             "ticks": ""
            },
            "colorscale": [
             [
              0,
              "#0d0887"
             ],
             [
              0.1111111111111111,
              "#46039f"
             ],
             [
              0.2222222222222222,
              "#7201a8"
             ],
             [
              0.3333333333333333,
              "#9c179e"
             ],
             [
              0.4444444444444444,
              "#bd3786"
             ],
             [
              0.5555555555555556,
              "#d8576b"
             ],
             [
              0.6666666666666666,
              "#ed7953"
             ],
             [
              0.7777777777777778,
              "#fb9f3a"
             ],
             [
              0.8888888888888888,
              "#fdca26"
             ],
             [
              1,
              "#f0f921"
             ]
            ],
            "type": "histogram2dcontour"
           }
          ],
          "mesh3d": [
           {
            "colorbar": {
             "outlinewidth": 0,
             "ticks": ""
            },
            "type": "mesh3d"
           }
          ],
          "parcoords": [
           {
            "line": {
             "colorbar": {
              "outlinewidth": 0,
              "ticks": ""
             }
            },
            "type": "parcoords"
           }
          ],
          "pie": [
           {
            "automargin": true,
            "type": "pie"
           }
          ],
          "scatter": [
           {
            "marker": {
             "line": {
              "color": "#283442"
             }
            },
            "type": "scatter"
           }
          ],
          "scatter3d": [
           {
            "line": {
             "colorbar": {
              "outlinewidth": 0,
              "ticks": ""
             }
            },
            "marker": {
             "colorbar": {
              "outlinewidth": 0,
              "ticks": ""
             }
            },
            "type": "scatter3d"
           }
          ],
          "scattercarpet": [
           {
            "marker": {
             "colorbar": {
              "outlinewidth": 0,
              "ticks": ""
             }
            },
            "type": "scattercarpet"
           }
          ],
          "scattergeo": [
           {
            "marker": {
             "colorbar": {
              "outlinewidth": 0,
              "ticks": ""
             }
            },
            "type": "scattergeo"
           }
          ],
          "scattergl": [
           {
            "marker": {
             "line": {
              "color": "#283442"
             }
            },
            "type": "scattergl"
           }
          ],
          "scattermap": [
           {
            "marker": {
             "colorbar": {
              "outlinewidth": 0,
              "ticks": ""
             }
            },
            "type": "scattermap"
           }
          ],
          "scattermapbox": [
           {
            "marker": {
             "colorbar": {
              "outlinewidth": 0,
              "ticks": ""
             }
            },
            "type": "scattermapbox"
           }
          ],
          "scatterpolar": [
           {
            "marker": {
             "colorbar": {
              "outlinewidth": 0,
              "ticks": ""
             }
            },
            "type": "scatterpolar"
           }
          ],
          "scatterpolargl": [
           {
            "marker": {
             "colorbar": {
              "outlinewidth": 0,
              "ticks": ""
             }
            },
            "type": "scatterpolargl"
           }
          ],
          "scatterternary": [
           {
            "marker": {
             "colorbar": {
              "outlinewidth": 0,
              "ticks": ""
             }
            },
            "type": "scatterternary"
           }
          ],
          "surface": [
           {
            "colorbar": {
             "outlinewidth": 0,
             "ticks": ""
            },
            "colorscale": [
             [
              0,
              "#0d0887"
             ],
             [
              0.1111111111111111,
              "#46039f"
             ],
             [
              0.2222222222222222,
              "#7201a8"
             ],
             [
              0.3333333333333333,
              "#9c179e"
             ],
             [
              0.4444444444444444,
              "#bd3786"
             ],
             [
              0.5555555555555556,
              "#d8576b"
             ],
             [
              0.6666666666666666,
              "#ed7953"
             ],
             [
              0.7777777777777778,
              "#fb9f3a"
             ],
             [
              0.8888888888888888,
              "#fdca26"
             ],
             [
              1,
              "#f0f921"
             ]
            ],
            "type": "surface"
           }
          ],
          "table": [
           {
            "cells": {
             "fill": {
              "color": "#506784"
             },
             "line": {
              "color": "rgb(17,17,17)"
             }
            },
            "header": {
             "fill": {
              "color": "#2a3f5f"
             },
             "line": {
              "color": "rgb(17,17,17)"
             }
            },
            "type": "table"
           }
          ]
         },
         "layout": {
          "annotationdefaults": {
           "arrowcolor": "#f2f5fa",
           "arrowhead": 0,
           "arrowwidth": 1
          },
          "autotypenumbers": "strict",
          "coloraxis": {
           "colorbar": {
            "outlinewidth": 0,
            "ticks": ""
           }
          },
          "colorscale": {
           "diverging": [
            [
             0,
             "#8e0152"
            ],
            [
             0.1,
             "#c51b7d"
            ],
            [
             0.2,
             "#de77ae"
            ],
            [
             0.3,
             "#f1b6da"
            ],
            [
             0.4,
             "#fde0ef"
            ],
            [
             0.5,
             "#f7f7f7"
            ],
            [
             0.6,
             "#e6f5d0"
            ],
            [
             0.7,
             "#b8e186"
            ],
            [
             0.8,
             "#7fbc41"
            ],
            [
             0.9,
             "#4d9221"
            ],
            [
             1,
             "#276419"
            ]
           ],
           "sequential": [
            [
             0,
             "#0d0887"
            ],
            [
             0.1111111111111111,
             "#46039f"
            ],
            [
             0.2222222222222222,
             "#7201a8"
            ],
            [
             0.3333333333333333,
             "#9c179e"
            ],
            [
             0.4444444444444444,
             "#bd3786"
            ],
            [
             0.5555555555555556,
             "#d8576b"
            ],
            [
             0.6666666666666666,
             "#ed7953"
            ],
            [
             0.7777777777777778,
             "#fb9f3a"
            ],
            [
             0.8888888888888888,
             "#fdca26"
            ],
            [
             1,
             "#f0f921"
            ]
           ],
           "sequentialminus": [
            [
             0,
             "#0d0887"
            ],
            [
             0.1111111111111111,
             "#46039f"
            ],
            [
             0.2222222222222222,
             "#7201a8"
            ],
            [
             0.3333333333333333,
             "#9c179e"
            ],
            [
             0.4444444444444444,
             "#bd3786"
            ],
            [
             0.5555555555555556,
             "#d8576b"
            ],
            [
             0.6666666666666666,
             "#ed7953"
            ],
            [
             0.7777777777777778,
             "#fb9f3a"
            ],
            [
             0.8888888888888888,
             "#fdca26"
            ],
            [
             1,
             "#f0f921"
            ]
           ]
          },
          "colorway": [
           "#636efa",
           "#EF553B",
           "#00cc96",
           "#ab63fa",
           "#FFA15A",
           "#19d3f3",
           "#FF6692",
           "#B6E880",
           "#FF97FF",
           "#FECB52"
          ],
          "font": {
           "color": "#f2f5fa"
          },
          "geo": {
           "bgcolor": "rgb(17,17,17)",
           "lakecolor": "rgb(17,17,17)",
           "landcolor": "rgb(17,17,17)",
           "showlakes": true,
           "showland": true,
           "subunitcolor": "#506784"
          },
          "hoverlabel": {
           "align": "left"
          },
          "hovermode": "closest",
          "mapbox": {
           "style": "dark"
          },
          "paper_bgcolor": "rgb(17,17,17)",
          "plot_bgcolor": "rgb(17,17,17)",
          "polar": {
           "angularaxis": {
            "gridcolor": "#506784",
            "linecolor": "#506784",
            "ticks": ""
           },
           "bgcolor": "rgb(17,17,17)",
           "radialaxis": {
            "gridcolor": "#506784",
            "linecolor": "#506784",
            "ticks": ""
           }
          },
          "scene": {
           "xaxis": {
            "backgroundcolor": "rgb(17,17,17)",
            "gridcolor": "#506784",
            "gridwidth": 2,
            "linecolor": "#506784",
            "showbackground": true,
            "ticks": "",
            "zerolinecolor": "#C8D4E3"
           },
           "yaxis": {
            "backgroundcolor": "rgb(17,17,17)",
            "gridcolor": "#506784",
            "gridwidth": 2,
            "linecolor": "#506784",
            "showbackground": true,
            "ticks": "",
            "zerolinecolor": "#C8D4E3"
           },
           "zaxis": {
            "backgroundcolor": "rgb(17,17,17)",
            "gridcolor": "#506784",
            "gridwidth": 2,
            "linecolor": "#506784",
            "showbackground": true,
            "ticks": "",
            "zerolinecolor": "#C8D4E3"
           }
          },
          "shapedefaults": {
           "line": {
            "color": "#f2f5fa"
           }
          },
          "sliderdefaults": {
           "bgcolor": "#C8D4E3",
           "bordercolor": "rgb(17,17,17)",
           "borderwidth": 1,
           "tickwidth": 0
          },
          "ternary": {
           "aaxis": {
            "gridcolor": "#506784",
            "linecolor": "#506784",
            "ticks": ""
           },
           "baxis": {
            "gridcolor": "#506784",
            "linecolor": "#506784",
            "ticks": ""
           },
           "bgcolor": "rgb(17,17,17)",
           "caxis": {
            "gridcolor": "#506784",
            "linecolor": "#506784",
            "ticks": ""
           }
          },
          "title": {
           "x": 0.05
          },
          "updatemenudefaults": {
           "bgcolor": "#506784",
           "borderwidth": 0
          },
          "xaxis": {
           "automargin": true,
           "gridcolor": "#283442",
           "linecolor": "#506784",
           "ticks": "",
           "title": {
            "standoff": 15
           },
           "zerolinecolor": "#283442",
           "zerolinewidth": 2
          },
          "yaxis": {
           "automargin": true,
           "gridcolor": "#283442",
           "linecolor": "#506784",
           "ticks": "",
           "title": {
            "standoff": 15
           },
           "zerolinecolor": "#283442",
           "zerolinewidth": 2
          }
         }
        },
        "title": {
         "text": "质量与伸长的比例模型及统计信息"
        },
        "xaxis": {
         "anchor": "y",
         "domain": [
          0,
          1
         ],
         "title": {
          "text": "质量"
         }
        },
        "yaxis": {
         "anchor": "x",
         "domain": [
          0.625,
          1
         ],
         "title": {
          "text": "伸长"
         }
        }
       }
      }
     },
     "metadata": {},
     "output_type": "display_data"
    }
   ],
   "source": [
    "import numpy as np\n",
    "import plotly.graph_objects as go\n",
    "from plotly.subplots import make_subplots\n",
    "\n",
    "# 假设这些是您已经计算好的统计数据\n",
    "stats_data = [\n",
    "    ['比例系数 k', k],\n",
    "    ['R² 值', r_squared],\n",
    "    ['均方根误差 (RMSE)', rmse],\n",
    "    ['平均绝对误差 (MAE)', mae],\n",
    "    ['平均平方误差 (MSE)', mse],\n",
    "    ['均方绝对误差 (MSAE)', msae],\n",
    "    ['最大误差 (Max Error)', max_err],\n",
    "    ['残差的标准差 (Standard Deviation of Residuals)', std_of_residuals],\n",
    "    ['残差的均值 (Mean of Residuals)', mean_of_residuals],\n",
    "    ['t 统计量', t_stat[0]],\n",
    "    ['p 值', p_value[0]],\n",
    "    ['F 统计量', f_stat],\n",
    "    ['F p 值', f_p_value],\n",
    "    ['AIC', aic],\n",
    "    ['BIC', bic]\n",
    "]\n",
    "\n",
    "# 创建一个包含散点图和表格的子图布局\n",
    "fig = make_subplots(rows=2, cols=1,\n",
    "                    subplot_titles=(\"质量与伸长的比例模型\", \"模型统计信息\"),\n",
    "                    specs=[[{\"type\": \"xy\"}], [{\"type\": \"table\"}]])\n",
    "\n",
    "# 绘制真实数据点\n",
    "fig.add_trace(go.Scatter(x=df['质量'], y=df['伸长'], mode='markers', name='真实数据', marker=dict(size=8)), row=1, col=1)\n",
    "\n",
    "# 绘制拟合直线\n",
    "x_range = np.linspace(df['质量'].min(), df['质量'].max(), 100)\n",
    "y_pred = model.predict(x_range.reshape(-1, 1))\n",
    "fig.add_trace(go.Scatter(x=x_range, y=y_pred, mode='lines', name='拟合直线', line=dict(color='red')), row=1, col=1)\n",
    "\n",
    "# 添加统计信息表格\n",
    "fig.add_trace(go.Table(\n",
    "    header=dict(values=['指标', '值']),\n",
    "    cells=dict(values=[[stat[0] for stat in stats_data], [stat[1] for stat in stats_data]])\n",
    "), row=2, col=1)\n",
    "\n",
    "# 设置图表布局\n",
    "fig.update_layout(\n",
    "    title=\"质量与伸长的比例模型及统计信息\",\n",
    "    xaxis_title=\"质量\",\n",
    "    yaxis_title=\"伸长\",\n",
    "    template='plotly_dark',\n",
    "    height=800  # 可根据需要调整整个布局的高度\n",
    ")\n",
    "\n",
    "fig.show()\n"
   ]
  }
 ],
 "metadata": {
  "kernelspec": {
   "display_name": ".venv",
   "language": "python",
   "name": "python3"
  },
  "language_info": {
   "codemirror_mode": {
    "name": "ipython",
    "version": 3
   },
   "file_extension": ".py",
   "mimetype": "text/x-python",
   "name": "python",
   "nbconvert_exporter": "python",
   "pygments_lexer": "ipython3",
   "version": "3.12.7"
  }
 },
 "nbformat": 4,
 "nbformat_minor": 5
}
